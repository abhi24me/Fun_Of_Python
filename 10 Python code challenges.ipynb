{
 "cells": [
  {
   "cell_type": "markdown",
   "metadata": {},
   "source": [
    "Q01. Write a function in Python that accepts one numeric parameter. This parameter will be the measure of an angle in radians. The function should convert the radians into degrees and then return that value.\n",
    "\n",
    "While you might find a Python library to do this for you, you should write the function yourself. One hint you get is that you'll need to use Pi in order to solve this problem. You can import the value for Pi from Python's math module."
   ]
  },
  {
   "cell_type": "code",
   "execution_count": 5,
   "metadata": {},
   "outputs": [
    {
     "data": {
      "text/plain": [
       "572.9577951308232"
      ]
     },
     "execution_count": 5,
     "metadata": {},
     "output_type": "execute_result"
    }
   ],
   "source": [
    "from math import pi\n",
    "def rad(x):\n",
    "    return x*180/pi\n",
    "rad(10)"
   ]
  },
  {
   "cell_type": "markdown",
   "metadata": {},
   "source": [
    "Q02. Create a function in Python that accepts two parameters. The first will be a list of numbers. The second parameter will be a string that can be one of the following values: asc, desc, and none.\n",
    "\n",
    "If the second parameter is \"asc,\" then the function should return a list with the numbers in ascending order. If it's \"desc,\" then the list should be in descending order, and if it's \"none,\" it should return the original list unaltered."
   ]
  },
  {
   "cell_type": "code",
   "execution_count": 46,
   "metadata": {},
   "outputs": [
    {
     "name": "stdout",
     "output_type": "stream",
     "text": [
      "Enter elements :1,2,3,4,5,6\n",
      "Enter any of these :\n",
      " 1: asc\n",
      " 2: desc\n",
      " 3: none\n",
      " >> desc\n"
     ]
    },
    {
     "data": {
      "text/plain": [
       "['6', '5', '4', '3', '2', '1']"
      ]
     },
     "execution_count": 46,
     "metadata": {},
     "output_type": "execute_result"
    }
   ],
   "source": [
    "def out(x,y):\n",
    "    if y==\"asc\":\n",
    "        return(sorted(x))\n",
    "    elif y==\"desc\":\n",
    "        return(sorted(x,reverse=True))\n",
    "    elif y==\"none\":\n",
    "        return(x)\n",
    "    \n",
    "out(x=input(\"Enter elements :\").split(\",\"),\n",
    "    y=input(\"Enter any of these :\\n 1: asc\\n 2: desc\\n 3: none\\n >> \").lower())"
   ]
  },
  {
   "cell_type": "markdown",
   "metadata": {},
   "source": [
    "Q03. Write a function in Python that accepts a decimal number and returns the equivalent binary number. To make this simple, the decimal number will always be less than 1,024, so the binary number returned will always be less than ten digits long."
   ]
  },
  {
   "cell_type": "code",
   "execution_count": 100,
   "metadata": {},
   "outputs": [
    {
     "name": "stdout",
     "output_type": "stream",
     "text": [
      "1111111111"
     ]
    }
   ],
   "source": [
    "def dec(d):\n",
    "    if d >= 1 and d<1024 :\n",
    "        dec(d//2)\n",
    "        print(d%2,end=\"\")\n",
    "    else:\n",
    "        return (\"Enter value between 1 and 1024\")\n",
    "    \n",
    "dec(1023)"
   ]
  },
  {
   "cell_type": "markdown",
   "metadata": {},
   "source": [
    "Q04. Create a function in Python that accepts a single word and returns the number of vowels in that word. In this function, only a, e, i, o, and u will be counted as vowels — not y."
   ]
  },
  {
   "cell_type": "code",
   "execution_count": 106,
   "metadata": {},
   "outputs": [
    {
     "name": "stdout",
     "output_type": "stream",
     "text": [
      "there are  3 vowels in this word\n"
     ]
    }
   ],
   "source": [
    "def vow(v):\n",
    "    c=0\n",
    "    for k in v:\n",
    "        if k==\"a\" or k==\"e\" or k==\"i\" or k==\"o\" or k==\"u\":\n",
    "            c=c+1\n",
    "    print(\"There are \",c,\"vowels in this word\")\n",
    "vow(\"abhishek\")"
   ]
  },
  {
   "cell_type": "markdown",
   "metadata": {},
   "source": [
    "Q05. Write a function in Python that accepts a credit card number. It should return a string where all the characters are hidden with an asterisk except the last four. For example, if the function gets sent \"4444444444444444\", then it should return \"4444\"."
   ]
  },
  {
   "cell_type": "code",
   "execution_count": 141,
   "metadata": {},
   "outputs": [
    {
     "name": "stdout",
     "output_type": "stream",
     "text": [
      "************ 4444\n"
     ]
    }
   ],
   "source": [
    "def card(x):\n",
    "    x = str(x)\n",
    "    if len(x)==16:\n",
    "        print(\"************\",x[-4:])\n",
    "    else:\n",
    "        print(\"Enter 16 digits !\")\n",
    "card(4444444444444444)"
   ]
  },
  {
   "cell_type": "markdown",
   "metadata": {},
   "source": [
    "Q06. Create a Python function that accepts a string. This function should count the number of Xs and the number of Os in the string. It should then return a boolean value of either True or False.\n",
    "\n",
    "If the count of Xs and Os are equal, then the function should return True. If the count isn't the same, it should return False. If there are no Xs or Os in the string, it should also return True because 0 equals 0. The string can contain any type and number of characters."
   ]
  },
  {
   "cell_type": "code",
   "execution_count": 180,
   "metadata": {},
   "outputs": [
    {
     "data": {
      "text/plain": [
       "True"
      ]
     },
     "execution_count": 180,
     "metadata": {},
     "output_type": "execute_result"
    }
   ],
   "source": [
    "def xo(s):\n",
    "    s = s.lower()\n",
    "    c=0\n",
    "    d=0\n",
    "    for i in s:\n",
    "        if i==\"x\" :\n",
    "            c=c+1\n",
    "        elif i==\"o\" :\n",
    "            d=d+1\n",
    "    if c==d:\n",
    "        return True\n",
    "    elif c!=d:\n",
    "        return False\n",
    "xo(\"AXSF Gvoxvovfv  ovovfvoov xdbjhbxgv ssyxyvyvXvvvyv \")"
   ]
  },
  {
   "cell_type": "markdown",
   "metadata": {},
   "source": [
    "Q07. Write a Python function that accepts three parameters. The first parameter is an integer. The second is one of the following mathematical operators: +, -, /, or . The third parameter will also be an integer.\n",
    "\n",
    "The function should perform a calculation and return the results. For example, if the function is passed 6 and 4, it should return 24."
   ]
  },
  {
   "cell_type": "code",
   "execution_count": 210,
   "metadata": {},
   "outputs": [
    {
     "data": {
      "text/plain": [
       "10"
      ]
     },
     "execution_count": 210,
     "metadata": {},
     "output_type": "execute_result"
    }
   ],
   "source": [
    "def cal(x,y,z):\n",
    "    if y==\"*\":\n",
    "        return x*z\n",
    "    elif y==\"+\":\n",
    "        return x+z\n",
    "    elif y==\"/\":\n",
    "        return x/z\n",
    "    elif y==\"-\":\n",
    "        return x-z\n",
    "cal(6,\"+\",4)"
   ]
  },
  {
   "cell_type": "markdown",
   "metadata": {},
   "source": [
    "Q08. Create a function in Python that accepts two parameters. The first should be the full price of an item as an integer. The second should be the discount percentage as an integer.\n",
    "\n",
    "The function should return the price of the item after the discount has been applied. For example, if the price is 100 and the discount is 20, the function should return 80."
   ]
  },
  {
   "cell_type": "code",
   "execution_count": 213,
   "metadata": {},
   "outputs": [
    {
     "data": {
      "text/plain": [
       "80"
      ]
     },
     "execution_count": 213,
     "metadata": {},
     "output_type": "execute_result"
    }
   ],
   "source": [
    "def dis(x,y):\n",
    "    return x-y\n",
    "dis(100,20)"
   ]
  },
  {
   "cell_type": "markdown",
   "metadata": {},
   "source": [
    "Q09. Write a function in Python that accepts a list of any length that contains a mix of non-negative integers and strings. The function should return a list with only the integers in the original list in the same order."
   ]
  },
  {
   "cell_type": "code",
   "execution_count": 218,
   "metadata": {},
   "outputs": [
    {
     "name": "stdout",
     "output_type": "stream",
     "text": [
      "1,2,3,4,5,\"g\",\"h\",\"s\",65,76,34,22,12\n"
     ]
    },
    {
     "data": {
      "text/plain": [
       "['1', '2', '3', '4', '5', '65', '76', '34', '22', '12']"
      ]
     },
     "execution_count": 218,
     "metadata": {},
     "output_type": "execute_result"
    }
   ],
   "source": [
    "def intg(a):\n",
    "    l=[]\n",
    "    for i in a:\n",
    "        if i.isdigit():\n",
    "            l.append(i)\n",
    "    return l\n",
    "intg(a=input().split(\",\"))"
   ]
  },
  {
   "cell_type": "markdown",
   "metadata": {},
   "source": [
    "Q10. Write a function for checking the speed of drivers. This function should have one parameter :speed. if speed is less than 70,it should print \"OK\". otherwise , for every 5 km above the speed limit (70),it should give the driver one demerit point and print the total number of demerit points. for example,if the speed is 80,it should print:\"Point: 2\". if the driver gets more than 12 points,the function should print:\"License Suspended\"."
   ]
  },
  {
   "cell_type": "code",
   "execution_count": null,
   "metadata": {},
   "outputs": [],
   "source": [
    "def speed(s):\n",
    "    if s<=70:\n",
    "        return \"OK\"\n",
    "    else:\n",
    "        point = (s-70)//5\n",
    "        print(\"point : \",point)\n",
    "        if point>12:\n",
    "            print(\"LICENSE SUSPENDED\")\n",
    "speed(450)"
   ]
  }
 ],
 "metadata": {
  "kernelspec": {
   "display_name": "Python 3",
   "language": "python",
   "name": "python3"
  },
  "language_info": {
   "codemirror_mode": {
    "name": "ipython",
    "version": 3
   },
   "file_extension": ".py",
   "mimetype": "text/x-python",
   "name": "python",
   "nbconvert_exporter": "python",
   "pygments_lexer": "ipython3",
   "version": "3.8.5"
  }
 },
 "nbformat": 4,
 "nbformat_minor": 4
}
